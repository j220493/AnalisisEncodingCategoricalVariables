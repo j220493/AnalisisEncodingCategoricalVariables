{
 "cells": [
  {
   "cell_type": "markdown",
   "metadata": {},
   "source": [
    "# Categorical Encoding analisis\n",
    "El presente analisis busca evaluar el efecto de diferentes tecnicas de encoding sobre el performance de modelos de aprendizaje de maquina. El presente analisis no se enfoca en tecnicas de preprocesamiento avanzadas como imputacion de faltantes o seleccion de atributos mediante metodos de filtrado o wrapper. Por otro lado, es posible utilizar seleccion de variable siempre que los metodos se encuentren embebidos dentro del algoritmo de aprendizaje automatico.\n",
    "\n",
    "Los datos a utilizar seran los de la tabla *heart decease* que se encuentran dentro del repositorio de Machine learning de UC Irvine, los cuales pueden ser consultados en la pagina https://archive.ics.uci.edu/dataset/45/heart+disease. Esta investigacion busca determinar los factores asociados a enfermedades cardiacas en diferentes pacientes. Originalmente se utilizaron 76 variables para esta investigacion, sin embargo, solo se hicieron publicas 14 descritas a continuacion:\n",
    "\n",
    "- age: edad\n",
    "- sex: Genero\n",
    "- cp: tipo de dolor de pecho\n",
    "- trestbps: presion arterial en reposo\n",
    "- chol: nivel de colesterol\n",
    "- fbs: azucar en sangre mayor que 120 mg/dl\n",
    "- restecg: nivel de electrocardiograma en reposo\n",
    "- thalach: maximo nivel de presion arterial alcanzado\n",
    "- exang: angina inducida por ejercicio\n",
    "- oldpeak: \n",
    "- slope: \n",
    "- ca\n",
    "- thal\n",
    "- num: variable respuesta\n"
   ]
  },
  {
   "cell_type": "markdown",
   "metadata": {},
   "source": [
    "## 1. Exploracion de los datos\n",
    "En esta seccion se hara una breve exploracion de los datos elegidos para el analsis en terminos de calidad de datos, es decir, se verificara si existan datos faltantes, si existen datos atipicos asi como el tipo de sus variables. En segundo lugar, se analizaran las variables cualitativas de los datos y en terminos del numero de niveles que contiene cada una de ellas y si son cualitativas nominales u ordinales."
   ]
  },
  {
   "cell_type": "code",
   "execution_count": 84,
   "metadata": {},
   "outputs": [],
   "source": [
    "# Importando librerias\n",
    "from ucimlrepo import fetch_ucirepo \n",
    "import polars as pl\n",
    "from sklearn.model_selection import train_test_split\n",
    "import seaborn as sns"
   ]
  },
  {
   "cell_type": "code",
   "execution_count": 89,
   "metadata": {},
   "outputs": [],
   "source": [
    "# Configuracion de graficos\n",
    "sns.set_theme(style=\"whitegrid\")\n",
    "sns.set_color_codes(\"pastel\")\n",
    "sns.set(rc={\"figure.figsize\":(3, 3.5)})"
   ]
  },
  {
   "cell_type": "code",
   "execution_count": 55,
   "metadata": {},
   "outputs": [
    {
     "data": {
      "text/html": [
       "<div>\n",
       "<style scoped>\n",
       "    .dataframe tbody tr th:only-of-type {\n",
       "        vertical-align: middle;\n",
       "    }\n",
       "\n",
       "    .dataframe tbody tr th {\n",
       "        vertical-align: top;\n",
       "    }\n",
       "\n",
       "    .dataframe thead th {\n",
       "        text-align: right;\n",
       "    }\n",
       "</style>\n",
       "<table border=\"1\" class=\"dataframe\">\n",
       "  <thead>\n",
       "    <tr style=\"text-align: right;\">\n",
       "      <th></th>\n",
       "      <th>age</th>\n",
       "      <th>sex</th>\n",
       "      <th>cp</th>\n",
       "      <th>trestbps</th>\n",
       "      <th>chol</th>\n",
       "      <th>fbs</th>\n",
       "      <th>restecg</th>\n",
       "      <th>thalach</th>\n",
       "      <th>exang</th>\n",
       "      <th>oldpeak</th>\n",
       "      <th>slope</th>\n",
       "      <th>ca</th>\n",
       "      <th>thal</th>\n",
       "    </tr>\n",
       "  </thead>\n",
       "  <tbody>\n",
       "    <tr>\n",
       "      <th>0</th>\n",
       "      <td>63</td>\n",
       "      <td>1</td>\n",
       "      <td>1</td>\n",
       "      <td>145</td>\n",
       "      <td>233</td>\n",
       "      <td>1</td>\n",
       "      <td>2</td>\n",
       "      <td>150</td>\n",
       "      <td>0</td>\n",
       "      <td>2.3</td>\n",
       "      <td>3</td>\n",
       "      <td>0.0</td>\n",
       "      <td>6.0</td>\n",
       "    </tr>\n",
       "    <tr>\n",
       "      <th>1</th>\n",
       "      <td>67</td>\n",
       "      <td>1</td>\n",
       "      <td>4</td>\n",
       "      <td>160</td>\n",
       "      <td>286</td>\n",
       "      <td>0</td>\n",
       "      <td>2</td>\n",
       "      <td>108</td>\n",
       "      <td>1</td>\n",
       "      <td>1.5</td>\n",
       "      <td>2</td>\n",
       "      <td>3.0</td>\n",
       "      <td>3.0</td>\n",
       "    </tr>\n",
       "    <tr>\n",
       "      <th>2</th>\n",
       "      <td>67</td>\n",
       "      <td>1</td>\n",
       "      <td>4</td>\n",
       "      <td>120</td>\n",
       "      <td>229</td>\n",
       "      <td>0</td>\n",
       "      <td>2</td>\n",
       "      <td>129</td>\n",
       "      <td>1</td>\n",
       "      <td>2.6</td>\n",
       "      <td>2</td>\n",
       "      <td>2.0</td>\n",
       "      <td>7.0</td>\n",
       "    </tr>\n",
       "    <tr>\n",
       "      <th>3</th>\n",
       "      <td>37</td>\n",
       "      <td>1</td>\n",
       "      <td>3</td>\n",
       "      <td>130</td>\n",
       "      <td>250</td>\n",
       "      <td>0</td>\n",
       "      <td>0</td>\n",
       "      <td>187</td>\n",
       "      <td>0</td>\n",
       "      <td>3.5</td>\n",
       "      <td>3</td>\n",
       "      <td>0.0</td>\n",
       "      <td>3.0</td>\n",
       "    </tr>\n",
       "    <tr>\n",
       "      <th>4</th>\n",
       "      <td>41</td>\n",
       "      <td>0</td>\n",
       "      <td>2</td>\n",
       "      <td>130</td>\n",
       "      <td>204</td>\n",
       "      <td>0</td>\n",
       "      <td>2</td>\n",
       "      <td>172</td>\n",
       "      <td>0</td>\n",
       "      <td>1.4</td>\n",
       "      <td>1</td>\n",
       "      <td>0.0</td>\n",
       "      <td>3.0</td>\n",
       "    </tr>\n",
       "  </tbody>\n",
       "</table>\n",
       "</div>"
      ],
      "text/plain": [
       "   age  sex  cp  trestbps  chol  fbs  restecg  thalach  exang  oldpeak  slope  \\\n",
       "0   63    1   1       145   233    1        2      150      0      2.3      3   \n",
       "1   67    1   4       160   286    0        2      108      1      1.5      2   \n",
       "2   67    1   4       120   229    0        2      129      1      2.6      2   \n",
       "3   37    1   3       130   250    0        0      187      0      3.5      3   \n",
       "4   41    0   2       130   204    0        2      172      0      1.4      1   \n",
       "\n",
       "    ca  thal  \n",
       "0  0.0   6.0  \n",
       "1  3.0   3.0  \n",
       "2  2.0   7.0  \n",
       "3  0.0   3.0  \n",
       "4  0.0   3.0  "
      ]
     },
     "execution_count": 55,
     "metadata": {},
     "output_type": "execute_result"
    }
   ],
   "source": [
    "# Importando data\n",
    "heart_disease = fetch_ucirepo(id=45)\n",
    "X = heart_disease.data.features\n",
    "y = heart_disease.data.targets.num\n",
    "X.head()"
   ]
  },
  {
   "cell_type": "code",
   "execution_count": 64,
   "metadata": {},
   "outputs": [
    {
     "data": {
      "text/html": [
       "<div><style>\n",
       ".dataframe > thead > tr,\n",
       ".dataframe > tbody > tr {\n",
       "  text-align: right;\n",
       "  white-space: pre-wrap;\n",
       "}\n",
       "</style>\n",
       "<small>shape: (5, 13)</small><table border=\"1\" class=\"dataframe\"><thead><tr><th>age</th><th>sex</th><th>cp</th><th>trestbps</th><th>chol</th><th>fbs</th><th>restecg</th><th>thalach</th><th>exang</th><th>oldpeak</th><th>slope</th><th>ca</th><th>thal</th></tr><tr><td>i64</td><td>i64</td><td>i64</td><td>i64</td><td>i64</td><td>i64</td><td>i64</td><td>i64</td><td>i64</td><td>f64</td><td>i64</td><td>f64</td><td>f64</td></tr></thead><tbody><tr><td>48</td><td>0</td><td>3</td><td>130</td><td>275</td><td>0</td><td>0</td><td>139</td><td>0</td><td>0.2</td><td>1</td><td>0.0</td><td>3.0</td></tr><tr><td>52</td><td>1</td><td>3</td><td>138</td><td>223</td><td>0</td><td>0</td><td>169</td><td>0</td><td>0.0</td><td>1</td><td>null</td><td>3.0</td></tr><tr><td>59</td><td>1</td><td>3</td><td>126</td><td>218</td><td>1</td><td>0</td><td>134</td><td>0</td><td>2.2</td><td>2</td><td>1.0</td><td>6.0</td></tr><tr><td>49</td><td>0</td><td>2</td><td>134</td><td>271</td><td>0</td><td>0</td><td>162</td><td>0</td><td>0.0</td><td>2</td><td>0.0</td><td>3.0</td></tr><tr><td>53</td><td>1</td><td>4</td><td>142</td><td>226</td><td>0</td><td>2</td><td>111</td><td>1</td><td>0.0</td><td>1</td><td>0.0</td><td>7.0</td></tr></tbody></table></div>"
      ],
      "text/plain": [
       "shape: (5, 13)\n",
       "┌─────┬─────┬─────┬──────────┬───┬─────────┬───────┬──────┬──────┐\n",
       "│ age ┆ sex ┆ cp  ┆ trestbps ┆ … ┆ oldpeak ┆ slope ┆ ca   ┆ thal │\n",
       "│ --- ┆ --- ┆ --- ┆ ---      ┆   ┆ ---     ┆ ---   ┆ ---  ┆ ---  │\n",
       "│ i64 ┆ i64 ┆ i64 ┆ i64      ┆   ┆ f64     ┆ i64   ┆ f64  ┆ f64  │\n",
       "╞═════╪═════╪═════╪══════════╪═══╪═════════╪═══════╪══════╪══════╡\n",
       "│ 48  ┆ 0   ┆ 3   ┆ 130      ┆ … ┆ 0.2     ┆ 1     ┆ 0.0  ┆ 3.0  │\n",
       "│ 52  ┆ 1   ┆ 3   ┆ 138      ┆ … ┆ 0.0     ┆ 1     ┆ null ┆ 3.0  │\n",
       "│ 59  ┆ 1   ┆ 3   ┆ 126      ┆ … ┆ 2.2     ┆ 2     ┆ 1.0  ┆ 6.0  │\n",
       "│ 49  ┆ 0   ┆ 2   ┆ 134      ┆ … ┆ 0.0     ┆ 2     ┆ 0.0  ┆ 3.0  │\n",
       "│ 53  ┆ 1   ┆ 4   ┆ 142      ┆ … ┆ 0.0     ┆ 1     ┆ 0.0  ┆ 7.0  │\n",
       "└─────┴─────┴─────┴──────────┴───┴─────────┴───────┴──────┴──────┘"
      ]
     },
     "execution_count": 64,
     "metadata": {},
     "output_type": "execute_result"
    }
   ],
   "source": [
    "# Dividiendo en train y test\n",
    "Xtrain, Xtest, ytrain, ytest = train_test_split(X, y, test_size=0.25, random_state=567)\n",
    "Xtrain, Xtest = pl.from_pandas(Xtrain), pl.from_pandas(Xtest)\n",
    "ytrain, ytest = pl.Series(ytrain), pl.Series(ytest)\n",
    "Xtrain.head()"
   ]
  },
  {
   "cell_type": "code",
   "execution_count": 69,
   "metadata": {},
   "outputs": [
    {
     "data": {
      "text/html": [
       "<div><style>\n",
       ".dataframe > thead > tr,\n",
       ".dataframe > tbody > tr {\n",
       "  text-align: right;\n",
       "  white-space: pre-wrap;\n",
       "}\n",
       "</style>\n",
       "<small>shape: (5, 2)</small><table border=\"1\" class=\"dataframe\"><thead><tr><th>num</th><th>count</th></tr><tr><td>i64</td><td>u32</td></tr></thead><tbody><tr><td>4</td><td>9</td></tr><tr><td>2</td><td>24</td></tr><tr><td>3</td><td>33</td></tr><tr><td>0</td><td>123</td></tr><tr><td>1</td><td>38</td></tr></tbody></table></div>"
      ],
      "text/plain": [
       "shape: (5, 2)\n",
       "┌─────┬───────┐\n",
       "│ num ┆ count │\n",
       "│ --- ┆ ---   │\n",
       "│ i64 ┆ u32   │\n",
       "╞═════╪═══════╡\n",
       "│ 4   ┆ 9     │\n",
       "│ 2   ┆ 24    │\n",
       "│ 3   ┆ 33    │\n",
       "│ 0   ┆ 123   │\n",
       "│ 1   ┆ 38    │\n",
       "└─────┴───────┘"
      ]
     },
     "execution_count": 69,
     "metadata": {},
     "output_type": "execute_result"
    }
   ],
   "source": [
    "# Variable respuesta\n",
    "ytrain.value_counts()"
   ]
  },
  {
   "cell_type": "markdown",
   "metadata": {},
   "source": [
    "Se observa que la variable respuesta tiene 5 niveles, esto hace referencia a diferentes tipos de enfermedades cardiacas, sin embargo, se procederá a codificar dichas variables en solo 2 niveles: 0 no tiene enfermedad cardiaca, 1 tiene cualquier tipo de enfermedad."
   ]
  },
  {
   "cell_type": "code",
   "execution_count": 90,
   "metadata": {},
   "outputs": [
    {
     "data": {
      "text/plain": [
       "<Axes: xlabel='num', ylabel='count'>"
      ]
     },
     "execution_count": 90,
     "metadata": {},
     "output_type": "execute_result"
    },
    {
     "data": {
      "image/png": "[encoded data removed]",
      "text/plain": [
       "<Figure size 300x350 with 1 Axes>"
      ]
     },
     "metadata": {},
     "output_type": "display_data"
    }
   ],
   "source": [
    "# Codificando nueva respuesta\n",
    "ytrain = ytrain.replace([0, 1, 2, 3, 4], [0, 1, 1, 1, 1])\n",
    "ytest = ytest.replace([0, 1, 2, 3, 4], [0, 1, 1, 1, 1])\n",
    "sns.barplot(data=ytrain.value_counts().lazy().collect(), x='num', y='count')\n"
   ]
  },
  {
   "cell_type": "markdown",
   "metadata": {},
   "source": [
    "Luego del cambio en la codificacion se puede observar que los datos de la variable respuesta estan distribuidos de forma relativamente igual, por lo tanto no se hara necesario usar ningun metodo de balanceo."
   ]
  },
  {
   "cell_type": "code",
   "execution_count": 91,
   "metadata": {},
   "outputs": [
    {
     "data": {
      "text/plain": [
       "<Axes: >"
      ]
     },
     "execution_count": 91,
     "metadata": {},
     "output_type": "execute_result"
    },
    {
     "data": {
      "image/png": "[encoded data removed]",
      "text/plain": [
       "<Figure size 300x350 with 1 Axes>"
      ]
     },
     "metadata": {},
     "output_type": "display_data"
    }
   ],
   "source": [
    "# Describiendo data\n",
    "missingValues = Xtrain.select(pl.all().is_null().sum())\n",
    "sns.barplot(y=missingValues.columns, x=missingValues[0].to_numpy().reshape((-1, )))"
   ]
  },
  {
   "cell_type": "markdown",
   "metadata": {},
   "source": [
    "En primer lugar, se observa que las variables CA y Thal contienen valores faltantes, lo cual indica que se debe realizar algun metodo de imputacion, sin embargo, no existe una gran cantidad de registros con estos valores."
   ]
  },
  {
   "cell_type": "code",
   "execution_count": 66,
   "metadata": {},
   "outputs": [
    {
     "data": {
      "text/html": [
       "<div><style>\n",
       ".dataframe > thead > tr,\n",
       ".dataframe > tbody > tr {\n",
       "  text-align: right;\n",
       "  white-space: pre-wrap;\n",
       "}\n",
       "</style>\n",
       "<small>shape: (1, 13)</small><table border=\"1\" class=\"dataframe\"><thead><tr><th>age</th><th>sex</th><th>cp</th><th>trestbps</th><th>chol</th><th>fbs</th><th>restecg</th><th>thalach</th><th>exang</th><th>oldpeak</th><th>slope</th><th>ca</th><th>thal</th></tr><tr><td>u32</td><td>u32</td><td>u32</td><td>u32</td><td>u32</td><td>u32</td><td>u32</td><td>u32</td><td>u32</td><td>u32</td><td>u32</td><td>u32</td><td>u32</td></tr></thead><tbody><tr><td>40</td><td>2</td><td>4</td><td>45</td><td>130</td><td>2</td><td>3</td><td>85</td><td>2</td><td>38</td><td>3</td><td>5</td><td>4</td></tr></tbody></table></div>"
      ],
      "text/plain": [
       "shape: (1, 13)\n",
       "┌─────┬─────┬─────┬──────────┬───┬─────────┬───────┬─────┬──────┐\n",
       "│ age ┆ sex ┆ cp  ┆ trestbps ┆ … ┆ oldpeak ┆ slope ┆ ca  ┆ thal │\n",
       "│ --- ┆ --- ┆ --- ┆ ---      ┆   ┆ ---     ┆ ---   ┆ --- ┆ ---  │\n",
       "│ u32 ┆ u32 ┆ u32 ┆ u32      ┆   ┆ u32     ┆ u32   ┆ u32 ┆ u32  │\n",
       "╞═════╪═════╪═════╪══════════╪═══╪═════════╪═══════╪═════╪══════╡\n",
       "│ 40  ┆ 2   ┆ 4   ┆ 45       ┆ … ┆ 38      ┆ 3     ┆ 5   ┆ 4    │\n",
       "└─────┴─────┴─────┴──────────┴───┴─────────┴───────┴─────┴──────┘"
      ]
     },
     "execution_count": 66,
     "metadata": {},
     "output_type": "execute_result"
    }
   ],
   "source": [
    "# Valores unicos\n",
    "Xtrain.select(pl.all().n_unique())"
   ]
  },
  {
   "cell_type": "markdown",
   "metadata": {},
   "source": [
    "Se observa que las variables Sex, CP, fbs, restecg, exang, slope CA y Thal tienen pocos valores unicos, es decir, podriamos asociarlas a variables cualitativas. Esto quiere decir que para las variables CA y THAL se debe imputar sus valores por moda o un metodo similar."
   ]
  }
 ],
 "metadata": {
  "kernelspec": {
   "display_name": "Python 3",
   "language": "python",
   "name": "python3"
  },
  "language_info": {
   "codemirror_mode": {
    "name": "ipython",
    "version": 3
   },
   "file_extension": ".py",
   "mimetype": "text/x-python",
   "name": "python",
   "nbconvert_exporter": "python",
   "pygments_lexer": "ipython3",
   "version": "3.9.7"
  }
 },
 "nbformat": 4,
 "nbformat_minor": 2
}
