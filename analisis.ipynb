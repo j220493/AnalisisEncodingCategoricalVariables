{
 "cells": [
  {
   "cell_type": "markdown",
   "metadata": {},
   "source": [
    "# Categorical Encoding Analisis\n",
    "<div style=\"text-align: justify\">\n",
    "Como es bien sabido, la mayor parte de los algoritmos de machine learning funcionan de manera sobresaliente cuando las variables utilizadas para su entrenamiento son de tipo numerico. Sin embargo, el reto se presenta a la hora de incorporar variables cualitativas dado que son pocos los algoritmos que manejan de forma nativa atributos cualitativos. Esta situacion obliga a los cientificos de datos a buscar alternativas que puedan garantizar un correcto modelamiento y resultados en terminos de prediccion. Teniendo en cuenta lo anterior, el presente analisis busca evaluar el efecto de diferentes tecnicas de encoding de variables cualitativas sobre el performance de modelos de aprendizaje de maquina. \n",
    "<br/><br/>\n",
    "En el primer apartado se describen los datos y las distintas tecnicas a utilizar durante todo el analisis. En segundo lugar, se analiza de forma estadistica los datos y se muestran distintos problemas que deben ser abordados mediante preprocesamiento. Cabe destacar que esta etapa no es el objetivo primario, por lo tanto, se aplicaran tecnicas que no requieran un alto nivel de complejidad. En ese orden de ideas, tampoco se aplicaran tecnicas complejas de seleccion de atributos (metodos de filtrado o wrapper), unicamente se permitiran aquellos metodos embebidos dentro de los modelos utilizados.\n",
    "<br/><br/>\n",
    "Posteriormente se analizan las distintas tecnicas de encoding en funcion de las variables que se encuentran dentro del dataset, sus ventajas y desventajas. Seguido se procede a crear el pipeline de preprocesamiento para finalmente entrenar y evaluar los modelos.\n",
    "\n",
    "Conclusion\n",
    "</div>"
   ]
  },
  {
   "cell_type": "markdown",
   "metadata": {},
   "source": [
    "## 1. Descripcion del experimento y preparacion del enviroment\n",
    "<div style=\"text-align: justify\">\n",
    "Los datos a utilizar seran los de la tabla *heart decease* que se encuentran dentro del repositorio de Machine learning de UC Irvine, los cuales pueden ser consultados en la pagina https://archive.ics.uci.edu/dataset/45/heart+disease. Esta investigacion busca determinar los factores asociados a enfermedades cardiacas en diferentes pacientes. Originalmente se utilizaron 76 variables para esta investigacion, sin embargo, solo se hicieron publicas 14 descritas a continuacion:\n",
    "\n",
    "- age: edad\n",
    "- sex: Genero (1 masculino, 0 femenino)\n",
    "- cp: tipo de dolor de pecho (1 Agina tipico, 2 Angina atipico, 3 Dolor no anginal, 4 Asintomatico)\n",
    "- trestbps: presion arterial en reposo\n",
    "- chol: nivel de colesterol\n",
    "- fbs: azucar en sangre mayor que 120 mg/dl (1 mayor que 120, 0 menor que 120)\n",
    "- restecg: nivel de electrocardiograma en reposo (0 normal, 1 tiene una anormalidad, 2 hipertrofia ventricular)\n",
    "- thalach: maximo nivel de presion arterial alcanzado\n",
    "- exang: angina inducida por ejercicio (1 Si, 0 No)\n",
    "- oldpeak: Depresion ST inducida por el ejercicio relativo al descanso\n",
    "- slope: Pendiente del maximo de ejercicio en el segmento ST (1 Creciente, 2 Plana, 3 Decreciente)\n",
    "- ca: Numero maximo vessels coloreados en fluroscopia\n",
    "- thal: 3 Normal, 5 defecto arreglado, 7 defecto reversible.\n",
    "- num: variable respuesta\n",
    "\n",
    "A continuacion se importan las librerias y los datos a utilizar del repositorio mencionado anteriormente"
   ]
  },
  {
   "cell_type": "code",
   "execution_count": 1,
   "metadata": {},
   "outputs": [],
   "source": [
    "# Importando librerias\n",
    "from ucimlrepo import fetch_ucirepo \n",
    "import polars as pl\n",
    "from sklearn.model_selection import train_test_split\n",
    "import seaborn as sns\n",
    "import matplotlib.pyplot as plt\n",
    "import numpy as np\n",
    "from scipy.stats import chi2_contingency\n",
    "import pandas as pd\n"
   ]
  },
  {
   "cell_type": "code",
   "execution_count": 2,
   "metadata": {},
   "outputs": [],
   "source": [
    "# Configuracion de graficos\n",
    "sns.set_theme(style=\"whitegrid\")\n",
    "sns.set_color_codes(\"pastel\")\n",
    "sns.set(rc={\"figure.figsize\":(3, 3.5)})"
   ]
  },
  {
   "cell_type": "code",
   "execution_count": 3,
   "metadata": {},
   "outputs": [
    {
     "data": {
      "text/html": [
       "<div>\n",
       "<style scoped>\n",
       "    .dataframe tbody tr th:only-of-type {\n",
       "        vertical-align: middle;\n",
       "    }\n",
       "\n",
       "    .dataframe tbody tr th {\n",
       "        vertical-align: top;\n",
       "    }\n",
       "\n",
       "    .dataframe thead th {\n",
       "        text-align: right;\n",
       "    }\n",
       "</style>\n",
       "<table border=\"1\" class=\"dataframe\">\n",
       "  <thead>\n",
       "    <tr style=\"text-align: right;\">\n",
       "      <th></th>\n",
       "      <th>age</th>\n",
       "      <th>sex</th>\n",
       "      <th>cp</th>\n",
       "      <th>trestbps</th>\n",
       "      <th>chol</th>\n",
       "      <th>fbs</th>\n",
       "      <th>restecg</th>\n",
       "      <th>thalach</th>\n",
       "      <th>exang</th>\n",
       "      <th>oldpeak</th>\n",
       "      <th>slope</th>\n",
       "      <th>ca</th>\n",
       "      <th>thal</th>\n",
       "    </tr>\n",
       "  </thead>\n",
       "  <tbody>\n",
       "    <tr>\n",
       "      <th>0</th>\n",
       "      <td>63</td>\n",
       "      <td>1</td>\n",
       "      <td>1</td>\n",
       "      <td>145</td>\n",
       "      <td>233</td>\n",
       "      <td>1</td>\n",
       "      <td>2</td>\n",
       "      <td>150</td>\n",
       "      <td>0</td>\n",
       "      <td>2.3</td>\n",
       "      <td>3</td>\n",
       "      <td>0.0</td>\n",
       "      <td>6.0</td>\n",
       "    </tr>\n",
       "    <tr>\n",
       "      <th>1</th>\n",
       "      <td>67</td>\n",
       "      <td>1</td>\n",
       "      <td>4</td>\n",
       "      <td>160</td>\n",
       "      <td>286</td>\n",
       "      <td>0</td>\n",
       "      <td>2</td>\n",
       "      <td>108</td>\n",
       "      <td>1</td>\n",
       "      <td>1.5</td>\n",
       "      <td>2</td>\n",
       "      <td>3.0</td>\n",
       "      <td>3.0</td>\n",
       "    </tr>\n",
       "    <tr>\n",
       "      <th>2</th>\n",
       "      <td>67</td>\n",
       "      <td>1</td>\n",
       "      <td>4</td>\n",
       "      <td>120</td>\n",
       "      <td>229</td>\n",
       "      <td>0</td>\n",
       "      <td>2</td>\n",
       "      <td>129</td>\n",
       "      <td>1</td>\n",
       "      <td>2.6</td>\n",
       "      <td>2</td>\n",
       "      <td>2.0</td>\n",
       "      <td>7.0</td>\n",
       "    </tr>\n",
       "    <tr>\n",
       "      <th>3</th>\n",
       "      <td>37</td>\n",
       "      <td>1</td>\n",
       "      <td>3</td>\n",
       "      <td>130</td>\n",
       "      <td>250</td>\n",
       "      <td>0</td>\n",
       "      <td>0</td>\n",
       "      <td>187</td>\n",
       "      <td>0</td>\n",
       "      <td>3.5</td>\n",
       "      <td>3</td>\n",
       "      <td>0.0</td>\n",
       "      <td>3.0</td>\n",
       "    </tr>\n",
       "    <tr>\n",
       "      <th>4</th>\n",
       "      <td>41</td>\n",
       "      <td>0</td>\n",
       "      <td>2</td>\n",
       "      <td>130</td>\n",
       "      <td>204</td>\n",
       "      <td>0</td>\n",
       "      <td>2</td>\n",
       "      <td>172</td>\n",
       "      <td>0</td>\n",
       "      <td>1.4</td>\n",
       "      <td>1</td>\n",
       "      <td>0.0</td>\n",
       "      <td>3.0</td>\n",
       "    </tr>\n",
       "  </tbody>\n",
       "</table>\n",
       "</div>"
      ],
      "text/plain": [
       "   age  sex  cp  trestbps  chol  fbs  restecg  thalach  exang  oldpeak  slope  \\\n",
       "0   63    1   1       145   233    1        2      150      0      2.3      3   \n",
       "1   67    1   4       160   286    0        2      108      1      1.5      2   \n",
       "2   67    1   4       120   229    0        2      129      1      2.6      2   \n",
       "3   37    1   3       130   250    0        0      187      0      3.5      3   \n",
       "4   41    0   2       130   204    0        2      172      0      1.4      1   \n",
       "\n",
       "    ca  thal  \n",
       "0  0.0   6.0  \n",
       "1  3.0   3.0  \n",
       "2  2.0   7.0  \n",
       "3  0.0   3.0  \n",
       "4  0.0   3.0  "
      ]
     },
     "execution_count": 3,
     "metadata": {},
     "output_type": "execute_result"
    }
   ],
   "source": [
    "# Importando data\n",
    "heart_disease = fetch_ucirepo(id=45)\n",
    "X = heart_disease.data.features\n",
    "y = heart_disease.data.targets.num\n",
    "X.head()"
   ]
  },
  {
   "cell_type": "code",
   "execution_count": 4,
   "metadata": {},
   "outputs": [
    {
     "name": "stdout",
     "output_type": "stream",
     "text": [
      "El numero de registros en los datos es 303\n"
     ]
    }
   ],
   "source": [
    "print(f\"El numero de registros en los datos es {X.shape[0]}\")"
   ]
  },
  {
   "cell_type": "markdown",
   "metadata": {},
   "source": [
    "El dataset contiene aproximadamente 300 registros. Este es un numero relativamente pequeño de observaciones, por lo tanto no es recomendable utilizar una data de validacion para hacer tunning de hiperparametros. Este proceso se realizará haciendo cross-validation con 5 repeticiones para 5 folds."
   ]
  },
  {
   "cell_type": "markdown",
   "metadata": {},
   "source": [
    "## 2. Exploracion de los datos\n",
    "<div style=\"text-align: justify\">\n",
    "En esta seccion se hara una breve exploracion de los datos elegidos para el analsis en terminos de calidad de datos. Para esto, se realizara de forma inmediata la division entre train y test (80%-20%) y de esa forma evitar cualqueir tipo de data leakage. Posteriormente, se verificara si existan datos faltantes, numero de niveles de variables categoricas, si existen datos atipicos y el tipo de atributos. Asimismo, se aplicaran otro tipo de tecnicas para determinar si existe redundancia entre variables"
   ]
  },
  {
   "cell_type": "code",
   "execution_count": 5,
   "metadata": {},
   "outputs": [
    {
     "data": {
      "text/html": [
       "<div><style>\n",
       ".dataframe > thead > tr,\n",
       ".dataframe > tbody > tr {\n",
       "  text-align: right;\n",
       "  white-space: pre-wrap;\n",
       "}\n",
       "</style>\n",
       "<small>shape: (5, 13)</small><table border=\"1\" class=\"dataframe\"><thead><tr><th>age</th><th>sex</th><th>cp</th><th>trestbps</th><th>chol</th><th>fbs</th><th>restecg</th><th>thalach</th><th>exang</th><th>oldpeak</th><th>slope</th><th>ca</th><th>thal</th></tr><tr><td>i64</td><td>i64</td><td>i64</td><td>i64</td><td>i64</td><td>i64</td><td>i64</td><td>i64</td><td>i64</td><td>f64</td><td>i64</td><td>f64</td><td>f64</td></tr></thead><tbody><tr><td>59</td><td>1</td><td>4</td><td>110</td><td>239</td><td>0</td><td>2</td><td>142</td><td>1</td><td>1.2</td><td>2</td><td>1.0</td><td>7.0</td></tr><tr><td>41</td><td>0</td><td>2</td><td>130</td><td>204</td><td>0</td><td>2</td><td>172</td><td>0</td><td>1.4</td><td>1</td><td>0.0</td><td>3.0</td></tr><tr><td>44</td><td>0</td><td>3</td><td>118</td><td>242</td><td>0</td><td>0</td><td>149</td><td>0</td><td>0.3</td><td>2</td><td>1.0</td><td>3.0</td></tr><tr><td>47</td><td>1</td><td>4</td><td>110</td><td>275</td><td>0</td><td>2</td><td>118</td><td>1</td><td>1.0</td><td>2</td><td>1.0</td><td>3.0</td></tr><tr><td>63</td><td>0</td><td>3</td><td>135</td><td>252</td><td>0</td><td>2</td><td>172</td><td>0</td><td>0.0</td><td>1</td><td>0.0</td><td>3.0</td></tr></tbody></table></div>"
      ],
      "text/plain": [
       "shape: (5, 13)\n",
       "┌─────┬─────┬─────┬──────────┬───┬─────────┬───────┬─────┬──────┐\n",
       "│ age ┆ sex ┆ cp  ┆ trestbps ┆ … ┆ oldpeak ┆ slope ┆ ca  ┆ thal │\n",
       "│ --- ┆ --- ┆ --- ┆ ---      ┆   ┆ ---     ┆ ---   ┆ --- ┆ ---  │\n",
       "│ i64 ┆ i64 ┆ i64 ┆ i64      ┆   ┆ f64     ┆ i64   ┆ f64 ┆ f64  │\n",
       "╞═════╪═════╪═════╪══════════╪═══╪═════════╪═══════╪═════╪══════╡\n",
       "│ 59  ┆ 1   ┆ 4   ┆ 110      ┆ … ┆ 1.2     ┆ 2     ┆ 1.0 ┆ 7.0  │\n",
       "│ 41  ┆ 0   ┆ 2   ┆ 130      ┆ … ┆ 1.4     ┆ 1     ┆ 0.0 ┆ 3.0  │\n",
       "│ 44  ┆ 0   ┆ 3   ┆ 118      ┆ … ┆ 0.3     ┆ 2     ┆ 1.0 ┆ 3.0  │\n",
       "│ 47  ┆ 1   ┆ 4   ┆ 110      ┆ … ┆ 1.0     ┆ 2     ┆ 1.0 ┆ 3.0  │\n",
       "│ 63  ┆ 0   ┆ 3   ┆ 135      ┆ … ┆ 0.0     ┆ 1     ┆ 0.0 ┆ 3.0  │\n",
       "└─────┴─────┴─────┴──────────┴───┴─────────┴───────┴─────┴──────┘"
      ]
     },
     "execution_count": 5,
     "metadata": {},
     "output_type": "execute_result"
    }
   ],
   "source": [
    "# Dividiendo en train y test\n",
    "Xtrain, Xtest, ytrain, ytest = train_test_split(X, y, test_size=0.20, random_state=567)\n",
    "Xtrain, Xtest = pl.from_pandas(Xtrain), pl.from_pandas(Xtest)\n",
    "ytrain, ytest = pl.Series(ytrain), pl.Series(ytest)\n",
    "Xtrain.head()"
   ]
  },
  {
   "cell_type": "markdown",
   "metadata": {},
   "source": [
    "<div style=\"text-align: justify\">\n",
    "Luego de la division, los datos de entrenamiento reportan 242 registros mientras que los datos de prueba tienen 61. Ambos cuentan con el mismo numero de variables (13).\n",
    "<br/><br/>\n",
    "Por otro lado, se hace necesario explorar la variable respuesta"
   ]
  },
  {
   "cell_type": "code",
   "execution_count": 6,
   "metadata": {},
   "outputs": [
    {
     "data": {
      "text/html": [
       "<div><style>\n",
       ".dataframe > thead > tr,\n",
       ".dataframe > tbody > tr {\n",
       "  text-align: right;\n",
       "  white-space: pre-wrap;\n",
       "}\n",
       "</style>\n",
       "<small>shape: (5, 2)</small><table border=\"1\" class=\"dataframe\"><thead><tr><th>num</th><th>count</th></tr><tr><td>i64</td><td>u32</td></tr></thead><tbody><tr><td>3</td><td>33</td></tr><tr><td>2</td><td>25</td></tr><tr><td>0</td><td>131</td></tr><tr><td>4</td><td>9</td></tr><tr><td>1</td><td>44</td></tr></tbody></table></div>"
      ],
      "text/plain": [
       "shape: (5, 2)\n",
       "┌─────┬───────┐\n",
       "│ num ┆ count │\n",
       "│ --- ┆ ---   │\n",
       "│ i64 ┆ u32   │\n",
       "╞═════╪═══════╡\n",
       "│ 3   ┆ 33    │\n",
       "│ 2   ┆ 25    │\n",
       "│ 0   ┆ 131   │\n",
       "│ 4   ┆ 9     │\n",
       "│ 1   ┆ 44    │\n",
       "└─────┴───────┘"
      ]
     },
     "execution_count": 6,
     "metadata": {},
     "output_type": "execute_result"
    }
   ],
   "source": [
    "# Variable respuesta\n",
    "ytrain.value_counts()"
   ]
  },
  {
   "cell_type": "markdown",
   "metadata": {},
   "source": [
    "<div style=\"text-align: justify\">\n",
    "Se observa que la variable a predecir tiene 5 niveles, esto hace referencia a diferentes tipos de enfermedades cardiacas, sin embargo, se procederá a codificar dichas variables en solo 2 niveles: 0 no tiene enfermedad cardiaca, 1 tiene cualquier tipo de enfermedad. Esta codificacion se aplica tanto para la respuesta de entrenamiento como la de prueba"
   ]
  },
  {
   "cell_type": "code",
   "execution_count": 7,
   "metadata": {},
   "outputs": [
    {
     "data": {
      "text/plain": [
       "<Axes: xlabel='num', ylabel='count'>"
      ]
     },
     "execution_count": 7,
     "metadata": {},
     "output_type": "execute_result"
    },
    {
     "data": {
      "image/png": "[encoded data removed]",
      "text/plain": [
       "<Figure size 300x350 with 1 Axes>"
      ]
     },
     "metadata": {},
     "output_type": "display_data"
    }
   ],
   "source": [
    "# Codificando nueva respuesta\n",
    "ytrain = ytrain.replace([0, 1, 2, 3, 4], [0, 1, 1, 1, 1])\n",
    "ytest = ytest.replace([0, 1, 2, 3, 4], [0, 1, 1, 1, 1])\n",
    "sns.barplot(data=ytrain.value_counts().lazy().collect(), x='num', y='count')"
   ]
  },
  {
   "cell_type": "markdown",
   "metadata": {},
   "source": [
    "<div style=\"text-align: justify\">\n",
    "Luego del cambio en la codificacion se puede observar que los datos de la variable respuesta estan distribuidos de forma relativamente igual, por lo tanto no se hara necesario usar ningun metodo de balanceo."
   ]
  },
  {
   "cell_type": "code",
   "execution_count": 8,
   "metadata": {},
   "outputs": [
    {
     "data": {
      "text/plain": [
       "<Axes: >"
      ]
     },
     "execution_count": 8,
     "metadata": {},
     "output_type": "execute_result"
    },
    {
     "data": {
      "image/png": "[encoded data removed]",
      "text/plain": [
       "<Figure size 300x350 with 1 Axes>"
      ]
     },
     "metadata": {},
     "output_type": "display_data"
    }
   ],
   "source": [
    "# Describiendo data\n",
    "missingValues = Xtrain.select(pl.all().is_null().sum())\n",
    "sns.barplot(y=missingValues.columns, x=missingValues[0].to_numpy().reshape((-1, )))"
   ]
  },
  {
   "cell_type": "markdown",
   "metadata": {},
   "source": [
    "<div style=\"text-align: justify\">\n",
    "En primer lugar, se observa que las variables CA y Thal contienen valores faltantes, sin embargo, es un numero reducido de registros con esta caracteristica. A pesar de esto, se debe realizar algun metodo de imputacion."
   ]
  },
  {
   "cell_type": "code",
   "execution_count": 9,
   "metadata": {},
   "outputs": [
    {
     "data": {
      "text/html": [
       "<div><style>\n",
       ".dataframe > thead > tr,\n",
       ".dataframe > tbody > tr {\n",
       "  text-align: right;\n",
       "  white-space: pre-wrap;\n",
       "}\n",
       "</style>\n",
       "<small>shape: (1, 13)</small><table border=\"1\" class=\"dataframe\"><thead><tr><th>age</th><th>sex</th><th>cp</th><th>trestbps</th><th>chol</th><th>fbs</th><th>restecg</th><th>thalach</th><th>exang</th><th>oldpeak</th><th>slope</th><th>ca</th><th>thal</th></tr><tr><td>u32</td><td>u32</td><td>u32</td><td>u32</td><td>u32</td><td>u32</td><td>u32</td><td>u32</td><td>u32</td><td>u32</td><td>u32</td><td>u32</td><td>u32</td></tr></thead><tbody><tr><td>40</td><td>2</td><td>4</td><td>46</td><td>135</td><td>2</td><td>3</td><td>87</td><td>2</td><td>38</td><td>3</td><td>5</td><td>4</td></tr></tbody></table></div>"
      ],
      "text/plain": [
       "shape: (1, 13)\n",
       "┌─────┬─────┬─────┬──────────┬───┬─────────┬───────┬─────┬──────┐\n",
       "│ age ┆ sex ┆ cp  ┆ trestbps ┆ … ┆ oldpeak ┆ slope ┆ ca  ┆ thal │\n",
       "│ --- ┆ --- ┆ --- ┆ ---      ┆   ┆ ---     ┆ ---   ┆ --- ┆ ---  │\n",
       "│ u32 ┆ u32 ┆ u32 ┆ u32      ┆   ┆ u32     ┆ u32   ┆ u32 ┆ u32  │\n",
       "╞═════╪═════╪═════╪══════════╪═══╪═════════╪═══════╪═════╪══════╡\n",
       "│ 40  ┆ 2   ┆ 4   ┆ 46       ┆ … ┆ 38      ┆ 3     ┆ 5   ┆ 4    │\n",
       "└─────┴─────┴─────┴──────────┴───┴─────────┴───────┴─────┴──────┘"
      ]
     },
     "execution_count": 9,
     "metadata": {},
     "output_type": "execute_result"
    }
   ],
   "source": [
    "# Valores unicos\n",
    "Xtrain.select(pl.all().n_unique())"
   ]
  },
  {
   "cell_type": "markdown",
   "metadata": {},
   "source": [
    "<div style=\"text-align: justify\">\n",
    "Se observa que las variables Sex, CP, fbs, restecg, exang, slope CA y Thal tienen pocos valores unicos, es decir, podriamos asociarlas a variables cualitativas. Esto quiere decir que para las variables CA y THAL se debe imputar sus valores por moda o un metodo similar."
   ]
  },
  {
   "cell_type": "code",
   "execution_count": 10,
   "metadata": {},
   "outputs": [
    {
     "name": "stdout",
     "output_type": "stream",
     "text": [
      "Numeric variables: ['age', 'trestbps', 'chol', 'thalach', 'oldpeak']\n",
      "Categorical variables: ['sex', 'cp', 'fbs', 'restecg', 'exang', 'slope', 'ca', 'thal']\n"
     ]
    }
   ],
   "source": [
    "# Definiendo tipos de variables\n",
    "catCols = ['sex', 'cp', 'fbs', 'restecg', 'exang', 'slope', 'ca', 'thal']\n",
    "numCols = [i for i in Xtrain.columns if i not in catCols]\n",
    "print(\"Numeric variables:\", numCols)\n",
    "print(\"Categorical variables:\", catCols)"
   ]
  },
  {
   "cell_type": "code",
   "execution_count": 14,
   "metadata": {},
   "outputs": [
    {
     "data": {
      "text/html": [
       "<div><style>\n",
       ".dataframe > thead > tr,\n",
       ".dataframe > tbody > tr {\n",
       "  text-align: right;\n",
       "  white-space: pre-wrap;\n",
       "}\n",
       "</style>\n",
       "<small>shape: (5, 13)</small><table border=\"1\" class=\"dataframe\"><thead><tr><th>age</th><th>sex</th><th>cp</th><th>trestbps</th><th>chol</th><th>fbs</th><th>restecg</th><th>thalach</th><th>exang</th><th>oldpeak</th><th>slope</th><th>ca</th><th>thal</th></tr><tr><td>i64</td><td>str</td><td>str</td><td>i64</td><td>i64</td><td>str</td><td>str</td><td>i64</td><td>str</td><td>f64</td><td>str</td><td>str</td><td>str</td></tr></thead><tbody><tr><td>54</td><td>&quot;1&quot;</td><td>&quot;4&quot;</td><td>124</td><td>266</td><td>&quot;0&quot;</td><td>&quot;2&quot;</td><td>109</td><td>&quot;1&quot;</td><td>2.2</td><td>&quot;2&quot;</td><td>&quot;1.0&quot;</td><td>&quot;7.0&quot;</td></tr><tr><td>55</td><td>&quot;0&quot;</td><td>&quot;4&quot;</td><td>180</td><td>327</td><td>&quot;0&quot;</td><td>&quot;1&quot;</td><td>117</td><td>&quot;1&quot;</td><td>3.4</td><td>&quot;2&quot;</td><td>&quot;0.0&quot;</td><td>&quot;3.0&quot;</td></tr><tr><td>43</td><td>&quot;1&quot;</td><td>&quot;4&quot;</td><td>150</td><td>247</td><td>&quot;0&quot;</td><td>&quot;0&quot;</td><td>171</td><td>&quot;0&quot;</td><td>1.5</td><td>&quot;1&quot;</td><td>&quot;0.0&quot;</td><td>&quot;3.0&quot;</td></tr><tr><td>51</td><td>&quot;1&quot;</td><td>&quot;3&quot;</td><td>125</td><td>245</td><td>&quot;1&quot;</td><td>&quot;2&quot;</td><td>166</td><td>&quot;0&quot;</td><td>2.4</td><td>&quot;2&quot;</td><td>&quot;0.0&quot;</td><td>&quot;3.0&quot;</td></tr><tr><td>77</td><td>&quot;1&quot;</td><td>&quot;4&quot;</td><td>125</td><td>304</td><td>&quot;0&quot;</td><td>&quot;2&quot;</td><td>162</td><td>&quot;1&quot;</td><td>0.0</td><td>&quot;1&quot;</td><td>&quot;3.0&quot;</td><td>&quot;3.0&quot;</td></tr></tbody></table></div>"
      ],
      "text/plain": [
       "shape: (5, 13)\n",
       "┌─────┬─────┬─────┬──────────┬───┬─────────┬───────┬─────┬──────┐\n",
       "│ age ┆ sex ┆ cp  ┆ trestbps ┆ … ┆ oldpeak ┆ slope ┆ ca  ┆ thal │\n",
       "│ --- ┆ --- ┆ --- ┆ ---      ┆   ┆ ---     ┆ ---   ┆ --- ┆ ---  │\n",
       "│ i64 ┆ str ┆ str ┆ i64      ┆   ┆ f64     ┆ str   ┆ str ┆ str  │\n",
       "╞═════╪═════╪═════╪══════════╪═══╪═════════╪═══════╪═════╪══════╡\n",
       "│ 54  ┆ 1   ┆ 4   ┆ 124      ┆ … ┆ 2.2     ┆ 2     ┆ 1.0 ┆ 7.0  │\n",
       "│ 55  ┆ 0   ┆ 4   ┆ 180      ┆ … ┆ 3.4     ┆ 2     ┆ 0.0 ┆ 3.0  │\n",
       "│ 43  ┆ 1   ┆ 4   ┆ 150      ┆ … ┆ 1.5     ┆ 1     ┆ 0.0 ┆ 3.0  │\n",
       "│ 51  ┆ 1   ┆ 3   ┆ 125      ┆ … ┆ 2.4     ┆ 2     ┆ 0.0 ┆ 3.0  │\n",
       "│ 77  ┆ 1   ┆ 4   ┆ 125      ┆ … ┆ 0.0     ┆ 1     ┆ 3.0 ┆ 3.0  │\n",
       "└─────┴─────┴─────┴──────────┴───┴─────────┴───────┴─────┴──────┘"
      ]
     },
     "execution_count": 14,
     "metadata": {},
     "output_type": "execute_result"
    }
   ],
   "source": [
    "# Cambiando tipo de variables\n",
    "Xtrain = Xtrain.with_columns(pl.col(catCols).map_elements(str))\n",
    "Xtest = Xtest.with_columns(pl.col(catCols).map_elements(str))\n",
    "Xtest.head()"
   ]
  },
  {
   "cell_type": "markdown",
   "metadata": {},
   "source": [
    "<div style=\"text-align: justify\">\n",
    "Otra dimension dentro del preprocesamiento es el tratamiento de datos atipicos. Esto se aplica principalmente para las variables cuantitativas definidas anteriormente. Para ello, se analizaran mediante graficos de cajas y bigotes donde cada punto atipico se encuentra a cierta distancia del rango intercuartilico (RIC)."
   ]
  },
  {
   "cell_type": "code",
   "execution_count": 15,
   "metadata": {},
   "outputs": [
    {
     "data": {
      "image/png": "[encoded data removed]",
      "text/plain": [
       "<Figure size 1000x700 with 6 Axes>"
      ]
     },
     "metadata": {},
     "output_type": "display_data"
    }
   ],
   "source": [
    "# atipicos\n",
    "ncol=3\n",
    "nrow=2\n",
    "contador = 0\n",
    "fig, axs = plt.subplots(ncols=ncol, nrows=nrow,figsize=(10, 7))\n",
    "for i in range(ncol):\n",
    "    for j in range(nrow):\n",
    "        col=numCols[contador]\n",
    "        sns.boxplot(data=Xtrain.lazy().collect(), x=ytrain, y=col, ax=axs[j, i])\n",
    "        contador += 1\n",
    "        if contador == 5:\n",
    "            break"
   ]
  },
  {
   "cell_type": "markdown",
   "metadata": {},
   "source": [
    "<div style=\"text-align: justify\">\n",
    "Al analizar las variables cuantitativas resalta que se encuentran en distinta escala, por ejemplo, la variable edad oscila entre 30 y 70 mientras que la variable oldpeak oscila entre 0 y 6 aproximadamente. Otro aspecto a destacar es el hecho que todas presentan valores atipicos, algunas en mayor manera que otras. Teniendo en cuenta lo anterior, se debe realizar algun proceso para suavizar estos datos como por ejemplo, aplicar logarimo natural a cada una de ellas\n",
    "<br/><br/>\n",
    "Finalmente, algo que puede tener efecto sobre la etapa de modelamiento son las correlaciones entre variables. Para el caso de las cuantitativas, se utiliza el metodo de correlacion de pearson para determinar la asociacion lineal entre ellas."
   ]
  },
  {
   "cell_type": "code",
   "execution_count": 16,
   "metadata": {},
   "outputs": [
    {
     "data": {
      "text/html": [
       "<div><style>\n",
       ".dataframe > thead > tr,\n",
       ".dataframe > tbody > tr {\n",
       "  text-align: right;\n",
       "  white-space: pre-wrap;\n",
       "}\n",
       "</style>\n",
       "<small>shape: (5, 5)</small><table border=\"1\" class=\"dataframe\"><thead><tr><th>age</th><th>trestbps</th><th>chol</th><th>thalach</th><th>oldpeak</th></tr><tr><td>f64</td><td>f64</td><td>f64</td><td>f64</td><td>f64</td></tr></thead><tbody><tr><td>1.0</td><td>0.318733</td><td>0.238334</td><td>-0.443395</td><td>0.22533</td></tr><tr><td>0.318733</td><td>1.0</td><td>0.112322</td><td>-0.039359</td><td>0.172998</td></tr><tr><td>0.238334</td><td>0.112322</td><td>1.0</td><td>-0.001388</td><td>0.03296</td></tr><tr><td>-0.443395</td><td>-0.039359</td><td>-0.001388</td><td>1.0</td><td>-0.32403</td></tr><tr><td>0.22533</td><td>0.172998</td><td>0.03296</td><td>-0.32403</td><td>1.0</td></tr></tbody></table></div>"
      ],
      "text/plain": [
       "shape: (5, 5)\n",
       "┌───────────┬───────────┬───────────┬───────────┬──────────┐\n",
       "│ age       ┆ trestbps  ┆ chol      ┆ thalach   ┆ oldpeak  │\n",
       "│ ---       ┆ ---       ┆ ---       ┆ ---       ┆ ---      │\n",
       "│ f64       ┆ f64       ┆ f64       ┆ f64       ┆ f64      │\n",
       "╞═══════════╪═══════════╪═══════════╪═══════════╪══════════╡\n",
       "│ 1.0       ┆ 0.318733  ┆ 0.238334  ┆ -0.443395 ┆ 0.22533  │\n",
       "│ 0.318733  ┆ 1.0       ┆ 0.112322  ┆ -0.039359 ┆ 0.172998 │\n",
       "│ 0.238334  ┆ 0.112322  ┆ 1.0       ┆ -0.001388 ┆ 0.03296  │\n",
       "│ -0.443395 ┆ -0.039359 ┆ -0.001388 ┆ 1.0       ┆ -0.32403 │\n",
       "│ 0.22533   ┆ 0.172998  ┆ 0.03296   ┆ -0.32403  ┆ 1.0      │\n",
       "└───────────┴───────────┴───────────┴───────────┴──────────┘"
      ]
     },
     "execution_count": 16,
     "metadata": {},
     "output_type": "execute_result"
    }
   ],
   "source": [
    "# Correlaciones variables numericas\n",
    "Xtrain.select(numCols).corr()"
   ]
  },
  {
   "cell_type": "markdown",
   "metadata": {},
   "source": [
    "<div style=\"text-align: justify\">\n",
    "Al calcular el indice de Pearson se observa que unicamente las variables edad y thalach tienen una correlacion negativa superior al 30%. Aun asi, este valor no es suficiente como para asumir que existe multicolinealidad y que esto podra afectar el modelo en su etapa de entrenamiento.\n",
    "<br/><br/>\n",
    "En el caso de las variables cualitativas, se procede a utilizar el test de dependencia de chi2, el cual compara las probabildiades esperadas con las observadas de cada combinacion de niveles de los atributos y mira si hay algun valor mayor o menor de lo esperado. Esta prueba no muestra como tal una correlacion, pero si muestra una dependencia entre los atributos analizados cuando se rechaza la hipotesis nula (valor P menor que 0.05)"
   ]
  },
  {
   "cell_type": "code",
   "execution_count": 17,
   "metadata": {},
   "outputs": [
    {
     "name": "stdout",
     "output_type": "stream",
     "text": [
      "variable sex and cp show dependency with a pvalue 0.04262963665545424\n",
      "variable sex and exang show dependency with a pvalue 0.014263788397086048\n",
      "variable sex and thal show dependency with a pvalue 3.734052473306374e-08\n",
      "variable cp and sex show dependency with a pvalue 0.04262963665545424\n",
      "variable cp and exang show dependency with a pvalue 8.869200430808388e-13\n",
      "variable cp and slope show dependency with a pvalue 0.0005609846444478059\n",
      "variable cp and ca show dependency with a pvalue 0.0006318709460296358\n",
      "variable cp and thal show dependency with a pvalue 1.1347932129509136e-05\n",
      "variable fbs and slope show dependency with a pvalue 0.037922315565965474\n",
      "variable exang and sex show dependency with a pvalue 0.014263788397085992\n",
      "variable exang and cp show dependency with a pvalue 8.869200430808388e-13\n",
      "variable exang and slope show dependency with a pvalue 4.003519325761956e-05\n",
      "variable exang and ca show dependency with a pvalue 0.0033247448756829837\n",
      "variable exang and thal show dependency with a pvalue 2.97859430351113e-06\n",
      "variable slope and cp show dependency with a pvalue 0.0005609846444478053\n",
      "variable slope and fbs show dependency with a pvalue 0.037922315565965474\n",
      "variable slope and exang show dependency with a pvalue 4.003519325761956e-05\n",
      "variable slope and ca show dependency with a pvalue 0.0047049934793084655\n",
      "variable slope and thal show dependency with a pvalue 1.9825553237194772e-05\n",
      "variable ca and cp show dependency with a pvalue 0.0006318709460296358\n",
      "variable ca and exang show dependency with a pvalue 0.0033247448756829803\n",
      "variable ca and slope show dependency with a pvalue 0.0047049934793084655\n",
      "variable ca and thal show dependency with a pvalue 0.00017779934414113459\n",
      "variable thal and sex show dependency with a pvalue 3.734052473306374e-08\n",
      "variable thal and cp show dependency with a pvalue 1.134793212950918e-05\n",
      "variable thal and exang show dependency with a pvalue 2.97859430351113e-06\n",
      "variable thal and slope show dependency with a pvalue 1.9825553237194735e-05\n",
      "variable thal and ca show dependency with a pvalue 0.00017779934414113415\n"
     ]
    }
   ],
   "source": [
    "# Correlaciones cualitativas\n",
    "for i in range(len(catCols)):\n",
    "    for j in range(len(catCols)):\n",
    "        var1 = catCols[i]\n",
    "        var2 = catCols[j]\n",
    "        pvalue = chi2_contingency(pd.crosstab(Xtrain[var1], Xtrain[var2]))[1]\n",
    "        if (pvalue < 0.05) & (var1 != var2):\n",
    "            print(f\"variable {var1} and {var2} show dependency with a pvalue {pvalue}\")"
   ]
  },
  {
   "cell_type": "markdown",
   "metadata": {},
   "source": [
    "<div style=\"text-align: justify\">\n",
    "\n",
    "Al analizar las variables cualitativas se muestra que la unica variable que no presenta dependencia con alguna otra es *restecg*. El hecho de que todas las variables restantes muestren cierta asociacion entre ellas indica que se debe tener cuidado a la hora de seleccionar el metodo de encoding.\n",
    "<br/><br/>\n",
    "Como conclusion del analisis descriptivo se puede decir lo siguiente:\n",
    "\n",
    "- Existen datos faltantes principalmente para variables cualitativas, por lo tanto, **se debe realizar algun tipo de imputacion por moda**\n",
    "- Las variables cualitativas se encuentran en distinta escala, por lo tanto **se debe hacer algun tipo de estandarizacion dependiendo del algoritmo a utilizar**.\n",
    "- Existen datos atipicos, por lo tanto **se deben suavizar con alguna transfomacion como logaritmo natural**\n",
    "- Existen dependencias entre las variables cualitativas, por lo tanto **se debe tener cuidado a la hora de seleccionar el metodo de encoding**. "
   ]
  },
  {
   "cell_type": "markdown",
   "metadata": {},
   "source": [
    "## 3. Definicion de metodos de Encoding\n",
    "<div style=\"text-align: justify\">\n",
    "\n",
    "Tal como se mencionó anteriormente, el objetivo de este analisis es el aplicar distintos metodos para codificar variables cualitativas y de esa forma determinar su impacto sobre el performance de modelos de ML. En esta seccion del analisis se describen algunos encoding, sus ventajas y desventajas.\n",
    "<br/><br/>\n",
    "En segundo lugar, se analizará el tipo de variable cualitativa, es decir, si pertenecen al grupo de variables cualitativas ordinales y nominales. Teniendo en cuenta tal clasificacion, se resume cual o cuales de los metodos de encoding aplicaria a cada una de las variables.\n",
    "<br/><br/>\n",
    "La data que se utilizará para testear cada uno de los encoding se muestra a continuacion:"
   ]
  },
  {
   "cell_type": "code",
   "execution_count": 58,
   "metadata": {},
   "outputs": [
    {
     "data": {
      "text/html": [
       "<div><style>\n",
       ".dataframe > thead > tr,\n",
       ".dataframe > tbody > tr {\n",
       "  text-align: right;\n",
       "  white-space: pre-wrap;\n",
       "}\n",
       "</style>\n",
       "<small>shape: (5, 2)</small><table border=\"1\" class=\"dataframe\"><thead><tr><th>Variable1</th><th>Variable2</th></tr><tr><td>i64</td><td>str</td></tr></thead><tbody><tr><td>1</td><td>&quot;A&quot;</td></tr><tr><td>2</td><td>&quot;B&quot;</td></tr><tr><td>3</td><td>&quot;B&quot;</td></tr><tr><td>1</td><td>&quot;B&quot;</td></tr><tr><td>5</td><td>&quot;C&quot;</td></tr></tbody></table></div>"
      ],
      "text/plain": [
       "shape: (5, 2)\n",
       "┌───────────┬───────────┐\n",
       "│ Variable1 ┆ Variable2 │\n",
       "│ ---       ┆ ---       │\n",
       "│ i64       ┆ str       │\n",
       "╞═══════════╪═══════════╡\n",
       "│ 1         ┆ A         │\n",
       "│ 2         ┆ B         │\n",
       "│ 3         ┆ B         │\n",
       "│ 1         ┆ B         │\n",
       "│ 5         ┆ C         │\n",
       "└───────────┴───────────┘"
      ]
     },
     "execution_count": 58,
     "metadata": {},
     "output_type": "execute_result"
    }
   ],
   "source": [
    "# Data testeo\n",
    "dicVar = {'Variable1': [1, 2, 3, 1, 5, 6, 7, 9, 10, 2, 3, 4, 1, 2, 2, 2, 3, 5, 1, 4],\n",
    "          'Variable2': ['A', 'B', 'B', 'B', 'C', 'A', 'B', 'A', 'C', 'B', 'A', 'B', 'B', 'A', 'C', 'B', 'B', 'A', 'B' ,'C']}\n",
    "EncodingX = pl.DataFrame(dicVar)\n",
    "EncodingY = pl.Series('y', [1, 0, 1, 1, 1, 1, 0, 0, 0, 0, 0, 1, 0, 0, 1, 0, 0, 1, 0, 0])\n",
    "EncodingX.head()"
   ]
  },
  {
   "cell_type": "markdown",
   "metadata": {},
   "source": [
    "### 3.1.1. Tipos de encoding"
   ]
  },
  {
   "cell_type": "markdown",
   "metadata": {},
   "source": [
    "#### 3.1.1.1 Ordinal Encoder\n",
    "<div style=\"text-align: justify\">\n",
    "\n",
    "El primer encoder a considerar es el **ordinal encoder**, este consiste en asignar un valor numerico a cada uno de los niveles de la variable categorica tal como se muestra a continuacion:"
   ]
  },
  {
   "cell_type": "code",
   "execution_count": 65,
   "metadata": {},
   "outputs": [
    {
     "data": {
      "text/html": [
       "<div><style>\n",
       ".dataframe > thead > tr,\n",
       ".dataframe > tbody > tr {\n",
       "  text-align: right;\n",
       "  white-space: pre-wrap;\n",
       "}\n",
       "</style>\n",
       "<small>shape: (5, 3)</small><table border=\"1\" class=\"dataframe\"><thead><tr><th>Variable1</th><th>Variable2</th><th>Variable2Encoded</th></tr><tr><td>i64</td><td>str</td><td>f64</td></tr></thead><tbody><tr><td>1</td><td>&quot;A&quot;</td><td>0.0</td></tr><tr><td>2</td><td>&quot;B&quot;</td><td>1.0</td></tr><tr><td>3</td><td>&quot;B&quot;</td><td>1.0</td></tr><tr><td>1</td><td>&quot;B&quot;</td><td>1.0</td></tr><tr><td>5</td><td>&quot;C&quot;</td><td>2.0</td></tr></tbody></table></div>"
      ],
      "text/plain": [
       "shape: (5, 3)\n",
       "┌───────────┬───────────┬──────────────────┐\n",
       "│ Variable1 ┆ Variable2 ┆ Variable2Encoded │\n",
       "│ ---       ┆ ---       ┆ ---              │\n",
       "│ i64       ┆ str       ┆ f64              │\n",
       "╞═══════════╪═══════════╪══════════════════╡\n",
       "│ 1         ┆ A         ┆ 0.0              │\n",
       "│ 2         ┆ B         ┆ 1.0              │\n",
       "│ 3         ┆ B         ┆ 1.0              │\n",
       "│ 1         ┆ B         ┆ 1.0              │\n",
       "│ 5         ┆ C         ┆ 2.0              │\n",
       "└───────────┴───────────┴──────────────────┘"
      ]
     },
     "execution_count": 65,
     "metadata": {},
     "output_type": "execute_result"
    }
   ],
   "source": [
    "# Ordinal Encoder\n",
    "from sklearn.preprocessing import OrdinalEncoder\n",
    "OrdinalE = OrdinalEncoder()\n",
    "varEncoded = OrdinalE.fit_transform(EncodingX.select('Variable2'))\n",
    "EncodingX.with_columns(pl.Series('Variable2Encoded', varEncoded.reshape(-1, ))).head()"
   ]
  },
  {
   "cell_type": "markdown",
   "metadata": {},
   "source": [
    "<div style=\"text-align: justify\">\n",
    "Se puede observar que el encoder asigno el valor de 0 a la categoria A, el valor de 1 a la categoria B y el valor de 2 a la categoria C. La principal ventaja de esta codificacion es su aplicabilidad para variables cualitativas ordinales, es decir, aquellas en donde el orden de los niveles signifique algo. Por ejemplo, para el caso del nivel de estudios (bachiller, pregrado o postgrado), el modelo será capaz de capturar la informacion referente al hecho de que bachiller es menor que pregrado a su vez, que pregrado es menor que postgrado. \n",
    "<br/><br/>\n",
    "Por otro lado, una desventaja de este tipo de codificacion es aplicarlo a variables cualitativas de tipo nominal, donde no haya ninguna evidencia sobre el significado del orden de los niveles. Por ejemplo, en el caso del genero no tendria sentido aplicar esta transformacion"
   ]
  },
  {
   "cell_type": "markdown",
   "metadata": {},
   "source": [
    "#### 3.1.1.2 Encoder por frecuencia\n",
    "<div style=\"text-align: justify\">\n",
    "\n",
    "En segundo lugar esta el **encoder por frecuencia**, el cual consiste en calcular la frecuencia de ocurrencia de cada nivel de la variable categorica y asignarlo como su respectiva codificacion. Un ejemplo de esto se muestra a continuacion:"
   ]
  },
  {
   "cell_type": "code",
   "execution_count": 66,
   "metadata": {},
   "outputs": [
    {
     "name": "stdout",
     "output_type": "stream",
     "text": [
      "{'Variable2': ['B', 'C', 'A'], 'count': [10, 4, 6]}\n"
     ]
    },
    {
     "data": {
      "text/html": [
       "<div><style>\n",
       ".dataframe > thead > tr,\n",
       ".dataframe > tbody > tr {\n",
       "  text-align: right;\n",
       "  white-space: pre-wrap;\n",
       "}\n",
       "</style>\n",
       "<small>shape: (5, 3)</small><table border=\"1\" class=\"dataframe\"><thead><tr><th>Variable1</th><th>Variable2</th><th>Variable2Encoded</th></tr><tr><td>i64</td><td>str</td><td>i32</td></tr></thead><tbody><tr><td>1</td><td>&quot;A&quot;</td><td>6</td></tr><tr><td>2</td><td>&quot;B&quot;</td><td>10</td></tr><tr><td>3</td><td>&quot;B&quot;</td><td>10</td></tr><tr><td>1</td><td>&quot;B&quot;</td><td>10</td></tr><tr><td>5</td><td>&quot;C&quot;</td><td>4</td></tr></tbody></table></div>"
      ],
      "text/plain": [
       "shape: (5, 3)\n",
       "┌───────────┬───────────┬──────────────────┐\n",
       "│ Variable1 ┆ Variable2 ┆ Variable2Encoded │\n",
       "│ ---       ┆ ---       ┆ ---              │\n",
       "│ i64       ┆ str       ┆ i32              │\n",
       "╞═══════════╪═══════════╪══════════════════╡\n",
       "│ 1         ┆ A         ┆ 6                │\n",
       "│ 2         ┆ B         ┆ 10               │\n",
       "│ 3         ┆ B         ┆ 10               │\n",
       "│ 1         ┆ B         ┆ 10               │\n",
       "│ 5         ┆ C         ┆ 4                │\n",
       "└───────────┴───────────┴──────────────────┘"
      ]
     },
     "execution_count": 66,
     "metadata": {},
     "output_type": "execute_result"
    }
   ],
   "source": [
    "# Freq Encoder\n",
    "FreqEncoder = EncodingX['Variable2'].value_counts().to_dict(as_series=False)\n",
    "print(FreqEncoder)\n",
    "EncodingX.with_columns(pl.col('Variable2').replace(FreqEncoder['Variable2'],\n",
    "                                                   FreqEncoder['count']).cast(pl.Int32).alias('Variable2Encoded')).head()"
   ]
  },
  {
   "cell_type": "markdown",
   "metadata": {},
   "source": [
    "<div style=\"text-align: justify\">\n",
    "\n",
    "Tal como se muestra en la tabla anterior, los niveles A, B y C recibirian la codificacion de 6, 10 y 4 respectivamente dado que es su frecuencia de ocurrencia en el dataset, lo cual puede ser ventajoso cuando el problema a predecir se explica por este tipo de comportamientos. Por ejemplo, en el caso de analisis de sentimientos, es muy probable que un escrito que tenga un alto numero de palabras positivas (bueno, excelente, explendido) y un muy bajo numero de palabras negativas (malo, triste, pesimo) haya sido escrito por alguien con una intension positiva.\n",
    "<br/><br/>\n",
    "Por otro lado, este tipo de codificacion no es apropiada si existen varios niveles de la variable con el mismo numero de ocurrencias dentro de los datos. En este caso, el modelo asumira que estas categorias son iguales, lo que alterará los resultados tanto a la hora de hacer feature selection como a la hora de entrenar el modelo."
   ]
  },
  {
   "cell_type": "markdown",
   "metadata": {},
   "source": [
    "#### 3.1.1.3 One Hot Encoder\n",
    "<div style=\"text-align: justify\">\n",
    "\n",
    "En tercer lugar se encuentra el **One Hot Encoder**. Este es un tipo de encoding muy popular dentro de los algoritmos de ML, el cual crea una variable dummy para cada nivel de la variable cualitativa, indicando la presencia (1) o ausencia (0) del atributo para cada registro de la tabla. Un ejemplo de esto se muestra a continuacion:"
   ]
  },
  {
   "cell_type": "code",
   "execution_count": 83,
   "metadata": {},
   "outputs": [
    {
     "data": {
      "text/html": [
       "<div><style>\n",
       ".dataframe > thead > tr,\n",
       ".dataframe > tbody > tr {\n",
       "  text-align: right;\n",
       "  white-space: pre-wrap;\n",
       "}\n",
       "</style>\n",
       "<small>shape: (5, 5)</small><table border=\"1\" class=\"dataframe\"><thead><tr><th>Variable1</th><th>Variable2</th><th>Variable2_A</th><th>Variable2_B</th><th>Variable2_C</th></tr><tr><td>i64</td><td>str</td><td>f64</td><td>f64</td><td>f64</td></tr></thead><tbody><tr><td>1</td><td>&quot;A&quot;</td><td>1.0</td><td>0.0</td><td>0.0</td></tr><tr><td>2</td><td>&quot;B&quot;</td><td>0.0</td><td>1.0</td><td>0.0</td></tr><tr><td>3</td><td>&quot;B&quot;</td><td>0.0</td><td>1.0</td><td>0.0</td></tr><tr><td>1</td><td>&quot;B&quot;</td><td>0.0</td><td>1.0</td><td>0.0</td></tr><tr><td>5</td><td>&quot;C&quot;</td><td>0.0</td><td>0.0</td><td>1.0</td></tr></tbody></table></div>"
      ],
      "text/plain": [
       "shape: (5, 5)\n",
       "┌───────────┬───────────┬─────────────┬─────────────┬─────────────┐\n",
       "│ Variable1 ┆ Variable2 ┆ Variable2_A ┆ Variable2_B ┆ Variable2_C │\n",
       "│ ---       ┆ ---       ┆ ---         ┆ ---         ┆ ---         │\n",
       "│ i64       ┆ str       ┆ f64         ┆ f64         ┆ f64         │\n",
       "╞═══════════╪═══════════╪═════════════╪═════════════╪═════════════╡\n",
       "│ 1         ┆ A         ┆ 1.0         ┆ 0.0         ┆ 0.0         │\n",
       "│ 2         ┆ B         ┆ 0.0         ┆ 1.0         ┆ 0.0         │\n",
       "│ 3         ┆ B         ┆ 0.0         ┆ 1.0         ┆ 0.0         │\n",
       "│ 1         ┆ B         ┆ 0.0         ┆ 1.0         ┆ 0.0         │\n",
       "│ 5         ┆ C         ┆ 0.0         ┆ 0.0         ┆ 1.0         │\n",
       "└───────────┴───────────┴─────────────┴─────────────┴─────────────┘"
      ]
     },
     "execution_count": 83,
     "metadata": {},
     "output_type": "execute_result"
    }
   ],
   "source": [
    "#OHE\n",
    "from sklearn.preprocessing import OneHotEncoder\n",
    "OHE = OneHotEncoder()\n",
    "varEncoded = OHE.fit_transform(EncodingX.select('Variable2')).toarray()\n",
    "varEncoded = pl.from_numpy(varEncoded, schema=OHE.get_feature_names_out().tolist())\n",
    "pl.concat([EncodingX, varEncoded], how='horizontal').head()"
   ]
  },
  {
   "cell_type": "markdown",
   "metadata": {},
   "source": [
    "<div style=\"text-align: justify\">\n",
    "\n",
    "Como se muestra en la tabla anterior se añadieron 3 nuevas columnas: una para cada nivel de la variable cualitativa y cada una de esas columnas toma el valor de 1 para el nivel que se encuentra en la variable original. Esto es ideal para cualidades cuyo orden no tenga un significado para el problema de prediccion, por ejemplo, el color de los ojos de una persona. Otro aspecto importante es que se debe usar para variables que tengan pocos niveles.\n",
    "<br/><br/>\n",
    "De hecho, el ultimo aspecto mencionado es una de las principales desventajas de este encoding: aplicar esta tecnica en una variable que tenga muchos niveles puede generar muchas columnas. Lo anterior crea una matriz **sparse** la cual es ineficiente para los algoritmos en materia de calculo computacional. Una posible solucion para este problema es la agrupacion de categorias menos frecuentes en una unica categoria que generalmente se encuentra como **otros**. Esta alternativa disminuiria la dimensionalidad de los datos luego de aplicar OHE haciendo mas eficiente el modelamiento.\n",
    "<br/><br/>\n",
    "La estrategia anterior puede ser contraproducente en algunos casos. Por ejemplo, si se intenta predecir la demanda de ciertos productos con base en sus ventas pasadas, se podria agrupar en una sola categoria aquellos con baja demanda. Sin embargo, si se produce un nuevo producto lo mas probable es que este tenga una baja demanda por no tener mucho tiempo en el mercado, por lo tanto, aunque en el futuro este tenga ventas considerablemente altas, siempre quedara categorizado en el grupo de otros."
   ]
  },
  {
   "cell_type": "markdown",
   "metadata": {},
   "source": [
    "#### 3.1.1.4 Target Encoder\n",
    "<div style=\"text-align: justify\">\n",
    "\n",
    "En el cuarto lugar se encuentra el **Targer Encoder**, tambien conocido como **Mean Encoder**.  Este es un tipo de encoding bastante polemico debido a que utiliza la variable respuesta para asignar la codificacion numerica. Basicamente asigna el promedio de los valores de la variable respuesta que pertenecen a cada categoria dentro de los datos de entrenamiento. A continuacion se muestran la media de la variable respuesta teniendo en cuenta cada categoria de la variable2:"
   ]
  },
  {
   "cell_type": "code",
   "execution_count": 101,
   "metadata": {},
   "outputs": [
    {
     "data": {
      "text/html": [
       "<div><style>\n",
       ".dataframe > thead > tr,\n",
       ".dataframe > tbody > tr {\n",
       "  text-align: right;\n",
       "  white-space: pre-wrap;\n",
       "}\n",
       "</style>\n",
       "<small>shape: (3, 2)</small><table border=\"1\" class=\"dataframe\"><thead><tr><th>Variable2</th><th>media</th></tr><tr><td>str</td><td>f64</td></tr></thead><tbody><tr><td>&quot;B&quot;</td><td>0.3</td></tr><tr><td>&quot;A&quot;</td><td>0.5</td></tr><tr><td>&quot;C&quot;</td><td>0.5</td></tr></tbody></table></div>"
      ],
      "text/plain": [
       "shape: (3, 2)\n",
       "┌───────────┬───────┐\n",
       "│ Variable2 ┆ media │\n",
       "│ ---       ┆ ---   │\n",
       "│ str       ┆ f64   │\n",
       "╞═══════════╪═══════╡\n",
       "│ B         ┆ 0.3   │\n",
       "│ A         ┆ 0.5   │\n",
       "│ C         ┆ 0.5   │\n",
       "└───────────┴───────┘"
      ]
     },
     "execution_count": 101,
     "metadata": {},
     "output_type": "execute_result"
    }
   ],
   "source": [
    "# Medias\n",
    "EncodingX.with_columns(pl.Series(EncodingY)).group_by('Variable2').agg(pl.col('y').mean()).rename({'y': 'media'})"
   ]
  },
  {
   "cell_type": "markdown",
   "metadata": {},
   "source": [
    "<div style=\"text-align: justify\">\n",
    "\n",
    "El resultado anterior pasaria a ser el encoding de cada valor de la variable2, sin embargo, esto tiene un problema y es el overfit principalmente porque estariamos calculando promedios sobre muy pocos valores lo cual implica que las medias en un posible dataset de prueba podrian ser muy distintas a las reportadas en entrenamiento. Teniendo en cuenta lo anterior, una solucion usada es incorporar la media de toda la variable respuesta de la sigueinte forma:\n",
    "<br/><br/>\n",
    "$$ encoding_i =  \\frac{n\\overline{x} + mw}{n + m}$$\n",
    "<br/><br/>\n",
    "Donde $n$ es el numero de observaciones que pertenecen a un nivel de una categoria (observaciones donde Variable2 = \"A\" por ejemplo), $\\overline{x}$ es el promedio de la variable respuesta para esas observaciones, $w$ es el promedio total de la variable respuesta dentro del dataset y $m$ es un valor definido por el usuario para determinar cuanto queremos que pese el promedio general sobre el encoding. En caso que asignemos ese peso con el valor de 0, el encoding sera exactamente la media, coincidiendo con los valores de la tabla anterior. Si el valor de $m$ es muy grande, el encoding tendera a tomar valores muy similares a la media general. "
   ]
  },
  {
   "cell_type": "code",
   "execution_count": 112,
   "metadata": {},
   "outputs": [
    {
     "data": {
      "text/html": [
       "<div><style>\n",
       ".dataframe > thead > tr,\n",
       ".dataframe > tbody > tr {\n",
       "  text-align: right;\n",
       "  white-space: pre-wrap;\n",
       "}\n",
       "</style>\n",
       "<small>shape: (5, 3)</small><table border=\"1\" class=\"dataframe\"><thead><tr><th>Variable1</th><th>Variable2</th><th>Variable2Encoded</th></tr><tr><td>i64</td><td>str</td><td>f64</td></tr></thead><tbody><tr><td>1</td><td>&quot;A&quot;</td><td>0.485207</td></tr><tr><td>2</td><td>&quot;B&quot;</td><td>0.308046</td></tr><tr><td>3</td><td>&quot;B&quot;</td><td>0.308046</td></tr><tr><td>1</td><td>&quot;B&quot;</td><td>0.308046</td></tr><tr><td>5</td><td>&quot;C&quot;</td><td>0.479339</td></tr></tbody></table></div>"
      ],
      "text/plain": [
       "shape: (5, 3)\n",
       "┌───────────┬───────────┬──────────────────┐\n",
       "│ Variable1 ┆ Variable2 ┆ Variable2Encoded │\n",
       "│ ---       ┆ ---       ┆ ---              │\n",
       "│ i64       ┆ str       ┆ f64              │\n",
       "╞═══════════╪═══════════╪══════════════════╡\n",
       "│ 1         ┆ A         ┆ 0.485207         │\n",
       "│ 2         ┆ B         ┆ 0.308046         │\n",
       "│ 3         ┆ B         ┆ 0.308046         │\n",
       "│ 1         ┆ B         ┆ 0.308046         │\n",
       "│ 5         ┆ C         ┆ 0.479339         │\n",
       "└───────────┴───────────┴──────────────────┘"
      ]
     },
     "execution_count": 112,
     "metadata": {},
     "output_type": "execute_result"
    }
   ],
   "source": [
    "# Target Encoder\n",
    "from sklearn.preprocessing import TargetEncoder\n",
    "TargetE = TargetEncoder()\n",
    "TargetE.fit(EncodingX.select('Variable2'), EncodingY)\n",
    "TargetE.transform(EncodingX.select('Variable2'))\n",
    "varEncoded = TargetE.transform(EncodingX.select('Variable2'))\n",
    "EncodingX.with_columns(pl.Series('Variable2Encoded', varEncoded.reshape(-1, ))).head()"
   ]
  },
  {
   "cell_type": "markdown",
   "metadata": {},
   "source": [
    "<div style=\"text-align: justify\">\n",
    "\n",
    "La libreria sklearn puede aplicar este encoding aplicando tecnicas bayesianas para calcular el valor del peso de la media general. Aplicar este metodo basicamente asigna un valor relacionado a cuantas veces ha sucedido el evento de estudio en el pasado para esa categoria especifica, asimismo es aplicable para variables con gran cantidad de categorias sin importar si el problema de prediccion es regresion o clasificacion (binaria o multiple). \n",
    "<br/><br/>\n",
    "Otro aspecto a tener en cuenta es el posible data leakage dado que se esta utilizando la media global de la variable respuesta. Para controlar este aspecto, SKLearn incorpora cross validation mediante el metodo `fit_transform`. Cabe resaltar que hacer el encoding usando `fit` y luego `transform` no utilizara el cross validation, por lo tanto se podria estar generando leakage. "
   ]
  },
  {
   "cell_type": "code",
   "execution_count": 116,
   "metadata": {},
   "outputs": [
    {
     "data": {
      "text/html": [
       "<div><style>\n",
       ".dataframe > thead > tr,\n",
       ".dataframe > tbody > tr {\n",
       "  text-align: right;\n",
       "  white-space: pre-wrap;\n",
       "}\n",
       "</style>\n",
       "<small>shape: (5, 3)</small><table border=\"1\" class=\"dataframe\"><thead><tr><th>Variable1</th><th>Variable2</th><th>Variable2Encoded</th></tr><tr><td>i64</td><td>str</td><td>f64</td></tr></thead><tbody><tr><td>1</td><td>&quot;A&quot;</td><td>0.40612</td></tr><tr><td>2</td><td>&quot;B&quot;</td><td>0.381649</td></tr><tr><td>3</td><td>&quot;B&quot;</td><td>0.15898</td></tr><tr><td>1</td><td>&quot;B&quot;</td><td>0.15898</td></tr><tr><td>5</td><td>&quot;C&quot;</td><td>0.34334</td></tr></tbody></table></div>"
      ],
      "text/plain": [
       "shape: (5, 3)\n",
       "┌───────────┬───────────┬──────────────────┐\n",
       "│ Variable1 ┆ Variable2 ┆ Variable2Encoded │\n",
       "│ ---       ┆ ---       ┆ ---              │\n",
       "│ i64       ┆ str       ┆ f64              │\n",
       "╞═══════════╪═══════════╪══════════════════╡\n",
       "│ 1         ┆ A         ┆ 0.40612          │\n",
       "│ 2         ┆ B         ┆ 0.381649         │\n",
       "│ 3         ┆ B         ┆ 0.15898          │\n",
       "│ 1         ┆ B         ┆ 0.15898          │\n",
       "│ 5         ┆ C         ┆ 0.34334          │\n",
       "└───────────┴───────────┴──────────────────┘"
      ]
     },
     "execution_count": 116,
     "metadata": {},
     "output_type": "execute_result"
    }
   ],
   "source": [
    "# Target Encoder\n",
    "from sklearn.preprocessing import TargetEncoder\n",
    "TargetE = TargetEncoder()\n",
    "varEncoded = TargetE.fit_transform(EncodingX.select('Variable2'), EncodingY)\n",
    "EncodingX.with_columns(pl.Series('Variable2Encoded', varEncoded.reshape(-1, ))).head()"
   ]
  },
  {
   "cell_type": "markdown",
   "metadata": {},
   "source": [
    "Este metodo no es recomendable si existe cierta correlacion entre variables regresoras y la variable respuesta, asimismo tampoco es recomendable si la relacion (promedio) que existe entre una categoria y la variable respuesta cambia constantemente en el tiempo."
   ]
  },
  {
   "cell_type": "markdown",
   "metadata": {},
   "source": []
  }
 ],
 "metadata": {
  "kernelspec": {
   "display_name": "Python 3",
   "language": "python",
   "name": "python3"
  },
  "language_info": {
   "codemirror_mode": {
    "name": "ipython",
    "version": 3
   },
   "file_extension": ".py",
   "mimetype": "text/x-python",
   "name": "python",
   "nbconvert_exporter": "python",
   "pygments_lexer": "ipython3",
   "version": "3.9.7"
  }
 },
 "nbformat": 4,
 "nbformat_minor": 2
}
